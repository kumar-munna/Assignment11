{
 "cells": [
  {
   "cell_type": "code",
   "execution_count": 1,
   "id": "ab97ccd0-35db-45cf-9a06-dca9370377d3",
   "metadata": {},
   "outputs": [],
   "source": [
    "# Q1. Which function is used to open a file? What are the different modes of opening a file? Explain each mode \n",
    "#  of file opening."
   ]
  },
  {
   "cell_type": "raw",
   "id": "17a258bc-2450-42b8-a3ab-da580699a4de",
   "metadata": {},
   "source": [
    "Answer:- 1:"
   ]
  },
  {
   "cell_type": "code",
   "execution_count": 2,
   "id": "100f03e8-84cd-44f3-83f5-0a89add42936",
   "metadata": {},
   "outputs": [],
   "source": [
    "# The open() function is used to opens a files and returns it as a file object.This function returns\n",
    "# a file object and takes two arguments, one that accepts the file name and another that accepts\n",
    "# the mode(access mode ).\n",
    "\n",
    "# There are differnt types of modes :-\n",
    "\n",
    "# 1. 'r'  open text file for reading. Raises an I/O error if the file does not exist.\n",
    "# 2. 'w'  open the file for writing. Truncates the file if it already exists. Creates a new file does not exist.\n",
    "# 3. 'a'  open  the file for writing . The data being written will be inserted at the end of the file.\n",
    "#         Creates a new file if it does not exist.\n",
    "# 4. 'rb' open the file for reading in binary format. Raises an I/O error if the file does not exist.\n",
    "# 5. 'wb' open the file for writing in binary format. Truncates the file if it already exits.\n",
    "#         Creates a new file if it does not exist.\n",
    "# 6. 'ab' open the file for appending in binary format. Insert data at the end of the file .\n",
    "#         Creates a new file if it does not exist.\n",
    "# 7. 'x'  create a new file and open it for first.\n",
    "# 8. 't'  text mode\n",
    "# 9. '+'  open a disk file for updating (reading and writing)\n",
    "# 10. 'U' univwesal newline mode (deprecated)\n",
    "\n"
   ]
  },
  {
   "cell_type": "code",
   "execution_count": 3,
   "id": "586ce155-d1fa-4cfe-9559-84abc292f73e",
   "metadata": {},
   "outputs": [],
   "source": [
    "# Q2. Why close() function is used? Why is it important to close a file?"
   ]
  },
  {
   "cell_type": "raw",
   "id": "e2054bc8-36d0-4bba-a2e0-741f329797f3",
   "metadata": {},
   "source": [
    "Answer:-2"
   ]
  },
  {
   "cell_type": "code",
   "execution_count": 2,
   "id": "0b3ca206-2c80-452d-ae9b-1637fc1b1935",
   "metadata": {},
   "outputs": [],
   "source": [
    "# close() function is used for close the open file. It is important to close files you are working with\n",
    "# as soon as you finished with them. This minimizes the amount of user virtual machine resources required\n",
    "#  and helps keep shared files and directories available for other users."
   ]
  },
  {
   "cell_type": "code",
   "execution_count": 3,
   "id": "95d1fae0-878d-44a0-b386-420165141ff9",
   "metadata": {},
   "outputs": [],
   "source": [
    "# Q3. Write a python program to create a text file. Write ‘I want to become a Data Scientist’ in that file. Then \n",
    "# close the file. Open this file and read the content of the file. "
   ]
  },
  {
   "cell_type": "raw",
   "id": "ba826105-b690-4fc9-baf6-e1f33d922620",
   "metadata": {},
   "source": [
    "Answer :-3"
   ]
  },
  {
   "cell_type": "code",
   "execution_count": 17,
   "id": "2f3834d8-a14b-43a6-9683-88c4cd4de422",
   "metadata": {},
   "outputs": [
    {
     "data": {
      "text/plain": [
       "33"
      ]
     },
     "execution_count": 17,
     "metadata": {},
     "output_type": "execute_result"
    }
   ],
   "source": [
    "f=open(\"test.txt\",'w')\n",
    "f.write(\"I want to become a Data scientist\")"
   ]
  },
  {
   "cell_type": "code",
   "execution_count": 18,
   "id": "7a063407-cf43-4830-be39-3241fd3cbc49",
   "metadata": {},
   "outputs": [],
   "source": [
    "f.close()"
   ]
  },
  {
   "cell_type": "code",
   "execution_count": 19,
   "id": "3bf095ae-686c-4dd6-a30d-7632cd3e95b1",
   "metadata": {},
   "outputs": [
    {
     "data": {
      "text/plain": [
       "'I want to become a Data scientist'"
      ]
     },
     "execution_count": 19,
     "metadata": {},
     "output_type": "execute_result"
    }
   ],
   "source": [
    "f=open(\"test.txt\",'r')\n",
    "f.read()"
   ]
  },
  {
   "cell_type": "code",
   "execution_count": null,
   "id": "0aa46963-0d35-4453-8221-066a259f76c5",
   "metadata": {},
   "outputs": [],
   "source": [
    "# Q4. Explain the following with python code: read(), readline() and readlines()."
   ]
  },
  {
   "cell_type": "raw",
   "id": "d85243a6-d3fb-4d14-b43a-3b018ca9747a",
   "metadata": {},
   "source": [
    "Answer :- 4"
   ]
  },
  {
   "cell_type": "code",
   "execution_count": 21,
   "id": "aec84aeb-3bdc-4a71-a5b3-4d2a1e38dd83",
   "metadata": {},
   "outputs": [],
   "source": [
    "# read() :-This function reads the entire file and returns a string."
   ]
  },
  {
   "cell_type": "code",
   "execution_count": 23,
   "id": "aa628884-2e38-4cc3-8533-0bbff7d04572",
   "metadata": {},
   "outputs": [
    {
     "data": {
      "text/plain": [
       "56"
      ]
     },
     "execution_count": 23,
     "metadata": {},
     "output_type": "execute_result"
    }
   ],
   "source": [
    "f=open(\"test1.txt\",'w')\n",
    "f.write(\"this function reads the entire file and returns a string\")"
   ]
  },
  {
   "cell_type": "code",
   "execution_count": 24,
   "id": "45b40d76-416a-4c59-aa03-6eab2e3a0c4a",
   "metadata": {},
   "outputs": [],
   "source": [
    "f.close()"
   ]
  },
  {
   "cell_type": "code",
   "execution_count": 25,
   "id": "f2a8fd9f-48d5-40e0-a9b2-21bbae8fd357",
   "metadata": {},
   "outputs": [
    {
     "data": {
      "text/plain": [
       "'this function reads the entire file and returns a string'"
      ]
     },
     "execution_count": 25,
     "metadata": {},
     "output_type": "execute_result"
    }
   ],
   "source": [
    "f=open(\"test1.txt\",'r')\n",
    "f.read()"
   ]
  },
  {
   "cell_type": "code",
   "execution_count": 26,
   "id": "d159d015-07ad-4b9f-ac4a-8e849e801fdc",
   "metadata": {},
   "outputs": [],
   "source": [
    "# readline():- This function reads lines from that file returns as a string."
   ]
  },
  {
   "cell_type": "code",
   "execution_count": 28,
   "id": "81d6f230-3113-470e-bcbd-6955dfcb8ae0",
   "metadata": {},
   "outputs": [
    {
     "data": {
      "text/plain": [
       "449"
      ]
     },
     "execution_count": 28,
     "metadata": {},
     "output_type": "execute_result"
    }
   ],
   "source": [
    "f=open(\"test2.txt\",'w')\n",
    "f.write(\"The Moon is a barren, rocky world without air and water. It has dark lava plain on its surface. The Moon is filled wit craters. It has no light of its own. It gets its light from the Sun. The Moo keeps changing its shape as it moves round the Earth. It spins on its axis in 27.3 days stars were named after the Edwin Aldrin were the first ones to set their foot on the Moon on 21 July 1969 They reached the Moon in their space craft named Apollo II.\")"
   ]
  },
  {
   "cell_type": "code",
   "execution_count": 29,
   "id": "d7e9fd4a-4a66-4b90-aeac-62af2b9d98f0",
   "metadata": {},
   "outputs": [],
   "source": [
    "f.close()"
   ]
  },
  {
   "cell_type": "code",
   "execution_count": 32,
   "id": "35e0d89d-a476-4237-a1ad-131bb149d75c",
   "metadata": {},
   "outputs": [
    {
     "data": {
      "text/plain": [
       "'The Moon is a barren, rocky world without air and '"
      ]
     },
     "execution_count": 32,
     "metadata": {},
     "output_type": "execute_result"
    }
   ],
   "source": [
    "f=open(\"test2.txt\",'r')\n",
    "f.readline(50)"
   ]
  },
  {
   "cell_type": "code",
   "execution_count": 33,
   "id": "2bd72ed2-ba09-4bc0-9f94-a6b85e4e47a2",
   "metadata": {},
   "outputs": [],
   "source": [
    "# readlines:-This function is used to read all lines at a single go and then\n",
    "# return them as each line a sting element in a list."
   ]
  },
  {
   "cell_type": "code",
   "execution_count": 43,
   "id": "c8d77043-95d6-489c-a2eb-a5341ad51f93",
   "metadata": {},
   "outputs": [
    {
     "data": {
      "text/plain": [
       "['The Moon is a barren, rocky world without air and water. It has dark lava plain on its surface. The Moon is filled wit craters. It has no light of its own. It gets its light from the Sun. The Moo keeps changing its shape as it moves round the Earth. It spins on its axis in 27.3 days stars were named after the Edwin Aldrin were the first ones to set their foot on the Moon on 21 July 1969 They reached the Moon in their space craft named Apollo II.']"
      ]
     },
     "execution_count": 43,
     "metadata": {},
     "output_type": "execute_result"
    }
   ],
   "source": [
    "f.readlines()"
   ]
  },
  {
   "cell_type": "code",
   "execution_count": 42,
   "id": "d173a43c-6437-4236-ab55-2e6e96a4ce18",
   "metadata": {},
   "outputs": [
    {
     "data": {
      "text/plain": [
       "0"
      ]
     },
     "execution_count": 42,
     "metadata": {},
     "output_type": "execute_result"
    }
   ],
   "source": [
    "f.seek(0)"
   ]
  },
  {
   "cell_type": "code",
   "execution_count": 44,
   "id": "8f6f423b-c338-40fc-b11f-b1f57d3c0686",
   "metadata": {},
   "outputs": [],
   "source": [
    "# Q5. Explain why with statement is used with open(). What is the advantage of using with statement and \n",
    "# open() together?"
   ]
  },
  {
   "cell_type": "raw",
   "id": "b21db5cd-a2ac-4eab-83ba-1a7ed975d52b",
   "metadata": {},
   "source": [
    "Answer:- 5"
   ]
  },
  {
   "cell_type": "code",
   "execution_count": 2,
   "id": "d0989410-2e59-4cf6-8e5f-76a2522e49d8",
   "metadata": {},
   "outputs": [],
   "source": [
    "# To read or write a file, we need to first to open it and python provides a function open(),which \n",
    "# returns a file object. Using this file object, we can read and write in the file. But in the end\n",
    "# we need to close the file using this same. To avoid the close() function we use combining with \n",
    "# statement and the open() function that helps us read and write to the file without being worrid about\n",
    "# closing it."
   ]
  },
  {
   "cell_type": "code",
   "execution_count": 4,
   "id": "fefdf11e-1bff-467f-8ab9-131a79f7f03a",
   "metadata": {},
   "outputs": [
    {
     "data": {
      "text/plain": [
       "449"
      ]
     },
     "execution_count": 4,
     "metadata": {},
     "output_type": "execute_result"
    }
   ],
   "source": [
    "# for eg:-\n",
    "\n",
    "f=open(\"test3.txt\",\"w\")\n",
    "f.write(\"The Moon is a barren, rocky world without air and water. It has dark lava plain on its surface. The Moon is filled wit craters. It has no light of its own. It gets its light from the Sun. The Moo keeps changing its shape as it moves round the Earth. It spins on its axis in 27.3 days stars were named after the Edwin Aldrin were the first ones to set their foot on the Moon on 21 July 1969 They reached the Moon in their space craft named Apollo II.\")"
   ]
  },
  {
   "cell_type": "code",
   "execution_count": 5,
   "id": "c29b6eeb-8dc8-44a4-ad3c-0809eaf10266",
   "metadata": {},
   "outputs": [],
   "source": [
    "f.close()"
   ]
  },
  {
   "cell_type": "code",
   "execution_count": 1,
   "id": "6c86128c-cc77-45af-a540-6586c45b4d8c",
   "metadata": {},
   "outputs": [
    {
     "name": "stdout",
     "output_type": "stream",
     "text": [
      "The Moon is a barren, rocky world without air and water. It has dark lava plain on its surface. The Moon is filled wit craters. It has no light of its own. It gets its light from the Sun. The Moo keeps changing its shape as it moves round the Earth. It spins on its axis in 27.3 days stars were named after the Edwin Aldrin were the first ones to set their foot on the Moon on 21 July 1969 They reached the Moon in their space craft named Apollo II.\n"
     ]
    }
   ],
   "source": [
    "with open(\"test3.txt\",\"r\") as f:\n",
    "          data=f.read()\n",
    "          print(data)"
   ]
  },
  {
   "cell_type": "code",
   "execution_count": 2,
   "id": "44151436-ad63-4414-9254-a1c5af2500b9",
   "metadata": {},
   "outputs": [],
   "source": [
    "# Q6. Explain the write() and writelines() functions. Give a suitable example"
   ]
  },
  {
   "cell_type": "raw",
   "id": "418e3b3c-ebe9-4815-bdbb-4944bb34cf94",
   "metadata": {},
   "source": [
    "Answer:- 6"
   ]
  },
  {
   "cell_type": "code",
   "execution_count": 3,
   "id": "5a3cbf40-6f8f-4339-b8f9-80e8a24aa778",
   "metadata": {},
   "outputs": [],
   "source": [
    "# write() :- open the file for writing. Truncates the file if it already exists.\n",
    "# Creates a new file does not exist."
   ]
  },
  {
   "cell_type": "code",
   "execution_count": 4,
   "id": "4d6cac60-184a-4360-b645-a36b469a8d9f",
   "metadata": {},
   "outputs": [],
   "source": [
    "f=open(\"test4.txt\",\"w\")\n",
    "f.write(\"hello\")\n",
    "f.close()"
   ]
  },
  {
   "cell_type": "code",
   "execution_count": 5,
   "id": "5eb80e07-9e80-4c33-af9a-f1fa7cb8c773",
   "metadata": {},
   "outputs": [],
   "source": [
    "# writelines() :- writelines() method is used to write a list of  strings or multiple\n",
    "# texts to a file. "
   ]
  },
  {
   "cell_type": "code",
   "execution_count": 7,
   "id": "8524cecd-0875-442e-9165-501559a92cb4",
   "metadata": {},
   "outputs": [],
   "source": [
    "f=open(\"test5.txt\",\"w\")\n",
    "f.writelines([\"different modes of opening a file \\n\",\"\\n write(w)\\n\",\"\\n read(r)\\n\",\"\\n append(a)\\n\"])\n",
    "f.close()"
   ]
  },
  {
   "cell_type": "code",
   "execution_count": 12,
   "id": "6d70acbe-915d-4964-8217-605b6c604394",
   "metadata": {},
   "outputs": [
    {
     "data": {
      "text/plain": [
       "'different modes of opening a file \\n\\n write(w)\\n\\n read(r)\\n\\n append(a)\\n'"
      ]
     },
     "execution_count": 12,
     "metadata": {},
     "output_type": "execute_result"
    }
   ],
   "source": [
    "f=open(\"test5.txt\",'r')\n",
    "f.read()"
   ]
  },
  {
   "cell_type": "code",
   "execution_count": null,
   "id": "df0baf1c-536f-49ec-99e6-484693b5a735",
   "metadata": {},
   "outputs": [],
   "source": []
  }
 ],
 "metadata": {
  "kernelspec": {
   "display_name": "Python 3 (ipykernel)",
   "language": "python",
   "name": "python3"
  },
  "language_info": {
   "codemirror_mode": {
    "name": "ipython",
    "version": 3
   },
   "file_extension": ".py",
   "mimetype": "text/x-python",
   "name": "python",
   "nbconvert_exporter": "python",
   "pygments_lexer": "ipython3",
   "version": "3.10.8"
  }
 },
 "nbformat": 4,
 "nbformat_minor": 5
}
